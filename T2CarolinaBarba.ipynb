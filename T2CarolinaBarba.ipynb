{
 "cells": [
  {
   "cell_type": "markdown",
   "metadata": {},
   "source": [
    "# RESUMEN #\n",
    "\n",
    "## Python es el lenguaje de programación de más rápido crecimiento en el mundo ##\n",
    "\n",
    "\n",
    "Python es el lenguaje de programación que ha tenido mayor crecimiento en el mundo, cada vez se usa más en trabajos de desarrollador y puestos de ciencias de datos en todas las industrias. \n",
    "Gracias a todas las bibliotecas que tiene lo convierte en un lenguaje dinámico y rápido, según *Kristen Sosulski*, como esta orientado a objetos y permite hacer casi todo, desde un sitio web, aplicaciones y modelos de datos, ha permitido su rápido crecimiento y ser el lenguaje de programación mas visitado en el mundo. \n",
    "Con la ayuda de este programa la tasa de crecimiento es alta en todas las industrias,es por eso que es un excelente lenguaje de programación para aprender, está en tendencia y está ayudando a las empresas a que se impulsen y agreguen valor.\n",
    "\n",
    "Las tres razones por las que Python domina son: \n",
    "\n",
    "**Facilidad de aprendizaje**\n",
    "\n",
    "Es conocido por su alta confiabilidad y sintaxis simple, que son un atractivo para los nuevos codificadores en particular.\n",
    "\n",
    "Llamado lenguaje de gratificación instantánea, ya que con muy poco código se puede lograr mucho, según *Karen Panetta*, ya que como Python lee como en inglés, lo hace mas propicio a tener mayores usuarios, siendo fácil y flexible de usar\n",
    "\n",
    "\n",
    "**La explosión de la inteligencia artificial, el aprendizaje automático y la ciencia de datos en la empresa**\n",
    "\n",
    "\n",
    "El uso de Python ha sido más rápido entre los científicos de datos, y particularmente en aquellos que trabajan en aprendizaje automático, ya que tiene buenas herramientas. También puedes usar Python para DevOps, scripts de sistema, desarrollo web y ciencia de datos, entre muchas otras cosas.\n",
    "\n",
    "**Una gran comunidad de desarrolladores **\n",
    "\n",
    "\n",
    "Python es utiliza alrededor del mundo, gracias a la gran cantidad de bibliotecas de código abierto disponible para resolver cualquier problema. \n",
    "\n",
    "Python \"tiene una comunidad saludable y amigable a su alrededor, que incluye, por ejemplo, comunidades construidas para quienes están subrepresentados en tecnología\", dijo *Silge*, por ejemplo, PyLadies que es una organización mundial para mujeres y otras minorías de género interesadas en codificar en Python\n",
    "\n",
    "La flexibilidad del lenguaje trae algunas desventajas ya que no es tan rápido como otros lenguajes, pero lleva menos tiempo desarrollarlo. A medida que las aplicaciones crecen, la capacidad de diagnosticar errores fácilmente baja, sin embargo, puedes pedir ayuda en todas las comunidades de Python que existen \n",
    "\n",
    "### REFERENCIAS ###\n",
    "\n",
    ">[Techrepublic](https://www.techrepublic.com/article/why-python-is-so-popular-with-developers-3-reasons-the-language-has-exploded/)\n",
    "\n"
   ]
  },
  {
   "cell_type": "code",
   "execution_count": null,
   "metadata": {},
   "outputs": [],
   "source": []
  }
 ],
 "metadata": {
  "kernelspec": {
   "display_name": "Python 3",
   "language": "python",
   "name": "python3"
  },
  "language_info": {
   "codemirror_mode": {
    "name": "ipython",
    "version": 3
   },
   "file_extension": ".py",
   "mimetype": "text/x-python",
   "name": "python",
   "nbconvert_exporter": "python",
   "pygments_lexer": "ipython3",
   "version": "3.7.3"
  }
 },
 "nbformat": 4,
 "nbformat_minor": 2
}
